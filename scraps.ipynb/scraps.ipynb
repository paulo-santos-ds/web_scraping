{
 "cells": [
  {
   "cell_type": "code",
   "execution_count": 15,
   "metadata": {},
   "outputs": [],
   "source": [
    "import requests\n",
    "from bs4 import BeautifulSoup"
   ]
  },
  {
   "cell_type": "code",
   "execution_count": 32,
   "metadata": {},
   "outputs": [],
   "source": [
    "url = \"https://www.globo.com/\"\n",
    "page = requests.get(url)"
   ]
  },
  {
   "cell_type": "code",
   "execution_count": 33,
   "metadata": {},
   "outputs": [
    {
     "data": {
      "text/plain": [
       "<Response [200]>"
      ]
     },
     "execution_count": 33,
     "metadata": {},
     "output_type": "execute_result"
    }
   ],
   "source": [
    "page"
   ]
  },
  {
   "cell_type": "code",
   "execution_count": 34,
   "metadata": {},
   "outputs": [],
   "source": [
    "resposta = page.text"
   ]
  },
  {
   "cell_type": "code",
   "execution_count": 35,
   "metadata": {},
   "outputs": [],
   "source": [
    "soup = BeautifulSoup(resposta,'html.parser')"
   ]
  },
  {
   "cell_type": "code",
   "execution_count": 36,
   "metadata": {},
   "outputs": [],
   "source": [
    "noticias = soup.find_all('h2',{'class':'post__title'})"
   ]
  },
  {
   "cell_type": "code",
   "execution_count": 37,
   "metadata": {},
   "outputs": [
    {
     "data": {
      "text/plain": [
       "[<h2 class=\"post__title\">Vegetti abre pro Vasco sobre Bota em disputa por vaga na semi do Carioca</h2>,\n",
       " <h2 class=\"post__title\">Palmeiras volta à frente do Mirassol novamente; siga</h2>,\n",
       " <h2 class=\"post__title\">Bragantino faz 2º sobre Ponte no Paulistão; siga</h2>,\n",
       " <h2 class=\"post__title\">Santos vence, vai às quartas e rebaixa a Inter de Limeira</h2>,\n",
       " <h2 class=\"post__title\">Neymar é aplaudido pela torcida da Inter de Limeira</h2>,\n",
       " <h2 class=\"post__title\">Corinthians e Guarani empatam em jogo de 4 gols</h2>,\n",
       " <h2 class=\"post__title\">Confira a tabela completa do Campeonato Paulista</h2>,\n",
       " <h2 class=\"post__title\">São Paulo reage e marca 3º contra o São Bernardo; siga</h2>,\n",
       " <h2 class=\"post__title\">Fluminense x Bangu chega a cinco gols; siga os lances</h2>,\n",
       " <h2 class=\"post__title\">Boca de urna aponta vitória na Alemanha do conservador CDU </h2>,\n",
       " <h2 class=\"post__title\">Rumble e Trump Media abrem nova ação contra Alexandre de Moraes</h2>,\n",
       " <h2 class=\"post__title\">Saúde do Papa segue crítica, mas sem novas crises respiratórias</h2>,\n",
       " <h2 class=\"post__title\">Papa tem leve insuficiência renal</h2>,\n",
       " <h2 class=\"post__title\">Briga em pré-carnaval de Olinda acaba com duas pessoas no hospital</h2>,\n",
       " <h2 class=\"post__title\">Jovem folião morre aos 24 anos em bloco no RJ</h2>,\n",
       " <h2 class=\"post__title\">Gabigol e Bolasie postam após derrota do Cruzeiro</h2>,\n",
       " <h2 class=\"post__title\">The Masked Singer Brasil: Jade, Catarina e Petruchio são desmascarados</h2>,\n",
       " <h2 class=\"post__title\">João Pedro revela quem salvaria do Paredão em caso de empate</h2>,\n",
       " <h2 class=\"post__title\">Ana Paula Renault, Naiara e Alface confirmados no Sincerão</h2>,\n",
       " <h2 class=\"post__title\">Thamiris declara ranço após indicação de Diogo: 'Chama tua namorada'</h2>,\n",
       " <h2 class=\"post__title\">'Viu como minha esposa é bonita?', diz Guilherme emocionado com recados</h2>,\n",
       " <h2 class=\"post__title\">Homem reage a tentativa de assalto no Rio com arma de choque; imagens fortes</h2>,\n",
       " <h2 class=\"post__title\">Vídeo mostra último abraço de pai em filho antes de amputação do braço por câncer </h2>,\n",
       " <h2 class=\"post__title\">Ex-presa, cristã, 'personal wash': conheça Marcia Gama, mãe de Oruam e mulher de Marcinho VP</h2>,\n",
       " <h2 class=\"post__title\">Musa da escola de samba Boa Vista infarta e morre horas após desfilar no ES</h2>,\n",
       " <h2 class=\"post__title\">Ferramenta de IA pode diagnosticar diabetes, HIV e Covid de uma vez só; saiba como</h2>,\n",
       " <h2 class=\"post__title\">Cuidado com abacate, não brincar com cães na rua... 5 coisas que evitariam milhares de idas a hospitais</h2>,\n",
       " <h2 class=\"post__title\">Ex-UFC, Cowboyzinha revela dependência química e diz que está em situação de rua</h2>,\n",
       " <h2 class=\"post__title\">Árbitro confirma gol de time no Catarinense, termina o jogo e anula depois; vídeo</h2>,\n",
       " <h2 class=\"post__title\">Amigo de Ney, surfista Flávio Nakagima mostra vídeo de sua casa sendo assaltada</h2>,\n",
       " <h2 class=\"post__title\">Após ser chamado de caubói por presidente do PSG, Textor saúda torcida em Lyon</h2>,\n",
       " <h2 class=\"post__title\">Opinião: o mais caro time do Sport precisa de tempo, mas os desafios já batem à porta </h2>,\n",
       " <h2 class=\"post__title\">Rio Open: bicampeão, Báez arrisca português, e técnico promete tatuagem do Cristo Redentor </h2>,\n",
       " <h2 class=\"post__title\">Recém-solteira, Marquezine posta de biquíni: 'Deve ser horrível não ser carioca'</h2>,\n",
       " <h2 class=\"post__title\">Escolhida por Secco para ser Bruna Surfistinha em baile já namorou cantor famoso</h2>,\n",
       " <h2 class=\"post__title\">Alessandra Negrini, rainha do Baixo Augusta, arrasa com look em São Paulo</h2>,\n",
       " <h2 class=\"post__title\">Charutos, lavagem íntima, fofoca dos amigos: como famosas descobriram traições</h2>,\n",
       " <h2 class=\"post__title\">Xamã surpreende ao surgir sem tatuagens; compare antes e depois</h2>,\n",
       " <h2 class=\"post__title\">Virginia e Zé Felipe brincam com as filhas em dia de calmaria na piscina: 'Domingando'</h2>,\n",
       " <h2 class=\"post__title\">Rodriguinho explica afastamento de ex-BBB: 'A pessoa mais esquisita que conheci'</h2>,\n",
       " <h2 class=\"post__title\">Drone invade privacidade e filma empresária nua no litoral de SP; vídeo</h2>,\n",
       " <h2 class=\"post__title\">Homem acha fotos íntimas de amiga da esposa, passa a assediá-la e ameaçá-la</h2>,\n",
       " <h2 class=\"post__title\">Juventude abstêmia: por que os jovens estão bebendo cada vez menos?</h2>,\n",
       " <h2 class=\"post__title\">Sintoma ignorado revela câncer terminal e faz mãe de 31 anos ficar longe dos filhos </h2>,\n",
       " <h2 class=\"post__title\">Por que casos de câncer em jovens adultos estão aumentando?</h2>,\n",
       " <h2 class=\"post__title\">no fundo do poço, Mavi rompe com Mércia e volta para Viola</h2>,\n",
       " <h2 class=\"post__title\">Veja o que vai acontecer nos capítulos de 3 a 8 de março</h2>,\n",
       " <h2 class=\"post__title\">Veja o que vai acontecer nos capítulos de 3 a 8 de março</h2>,\n",
       " <h2 class=\"post__title\">Elenco apresenta trama e personagens de 'Vale Tudo'</h2>,\n",
       " <h2 class=\"post__title\">Esses 8 truques imbatíveis vão fazer seu celular voar de tão rápido</h2>,\n",
       " <h2 class=\"post__title\">15 melhores jogos de Nintendo Switch da história, segundo o Metacritic</h2>,\n",
       " <h2 class=\"post__title\">Celular com 5G de 128 GB: 6 opções por um preço que você não pode perder</h2>,\n",
       " <h2 class=\"post__title\">Mini ar-condicionado portátil é bom? 4 motivos para comprar — e 5 para fugir</h2>,\n",
       " <h2 class=\"post__title\">Eleição na Alemanha: EUA e Rússia alinhados; escute o novo episódio de 'O Assunto'</h2>,\n",
       " <h2 class=\"post__title\">Isso é Fantástico explica o que é o PMMA e quais os riscos para a saúde </h2>,\n",
       " <h2 class=\"post__title\">Encontre os melhores podcasts da Globo em um só lugar; aperte o play e divirta-se</h2>]"
      ]
     },
     "execution_count": 37,
     "metadata": {},
     "output_type": "execute_result"
    }
   ],
   "source": [
    "noticias"
   ]
  },
  {
   "cell_type": "code",
   "execution_count": 38,
   "metadata": {},
   "outputs": [
    {
     "name": "stdout",
     "output_type": "stream",
     "text": [
      "Vegetti abre pro Vasco sobre Bota em disputa por vaga na semi do Carioca\n",
      "Palmeiras volta à frente do Mirassol novamente; siga\n",
      "Bragantino faz 2º sobre Ponte no Paulistão; siga\n",
      "Santos vence, vai às quartas e rebaixa a Inter de Limeira\n",
      "Neymar é aplaudido pela torcida da Inter de Limeira\n",
      "Corinthians e Guarani empatam em jogo de 4 gols\n",
      "Confira a tabela completa do Campeonato Paulista\n",
      "São Paulo reage e marca 3º contra o São Bernardo; siga\n",
      "Fluminense x Bangu chega a cinco gols; siga os lances\n",
      "Boca de urna aponta vitória na Alemanha do conservador CDU \n",
      "Rumble e Trump Media abrem nova ação contra Alexandre de Moraes\n",
      "Saúde do Papa segue crítica, mas sem novas crises respiratórias\n",
      "Papa tem leve insuficiência renal\n",
      "Briga em pré-carnaval de Olinda acaba com duas pessoas no hospital\n",
      "Jovem folião morre aos 24 anos em bloco no RJ\n",
      "Gabigol e Bolasie postam após derrota do Cruzeiro\n",
      "The Masked Singer Brasil: Jade, Catarina e Petruchio são desmascarados\n",
      "João Pedro revela quem salvaria do Paredão em caso de empate\n",
      "Ana Paula Renault, Naiara e Alface confirmados no Sincerão\n",
      "Thamiris declara ranço após indicação de Diogo: 'Chama tua namorada'\n",
      "'Viu como minha esposa é bonita?', diz Guilherme emocionado com recados\n",
      "Homem reage a tentativa de assalto no Rio com arma de choque; imagens fortes\n",
      "Vídeo mostra último abraço de pai em filho antes de amputação do braço por câncer \n",
      "Ex-presa, cristã, 'personal wash': conheça Marcia Gama, mãe de Oruam e mulher de Marcinho VP\n",
      "Musa da escola de samba Boa Vista infarta e morre horas após desfilar no ES\n",
      "Ferramenta de IA pode diagnosticar diabetes, HIV e Covid de uma vez só; saiba como\n",
      "Cuidado com abacate, não brincar com cães na rua... 5 coisas que evitariam milhares de idas a hospitais\n",
      "Ex-UFC, Cowboyzinha revela dependência química e diz que está em situação de rua\n",
      "Árbitro confirma gol de time no Catarinense, termina o jogo e anula depois; vídeo\n",
      "Amigo de Ney, surfista Flávio Nakagima mostra vídeo de sua casa sendo assaltada\n",
      "Após ser chamado de caubói por presidente do PSG, Textor saúda torcida em Lyon\n",
      "Opinião: o mais caro time do Sport precisa de tempo, mas os desafios já batem à porta \n",
      "Rio Open: bicampeão, Báez arrisca português, e técnico promete tatuagem do Cristo Redentor \n",
      "Recém-solteira, Marquezine posta de biquíni: 'Deve ser horrível não ser carioca'\n",
      "Escolhida por Secco para ser Bruna Surfistinha em baile já namorou cantor famoso\n",
      "Alessandra Negrini, rainha do Baixo Augusta, arrasa com look em São Paulo\n",
      "Charutos, lavagem íntima, fofoca dos amigos: como famosas descobriram traições\n",
      "Xamã surpreende ao surgir sem tatuagens; compare antes e depois\n",
      "Virginia e Zé Felipe brincam com as filhas em dia de calmaria na piscina: 'Domingando'\n",
      "Rodriguinho explica afastamento de ex-BBB: 'A pessoa mais esquisita que conheci'\n",
      "Drone invade privacidade e filma empresária nua no litoral de SP; vídeo\n",
      "Homem acha fotos íntimas de amiga da esposa, passa a assediá-la e ameaçá-la\n",
      "Juventude abstêmia: por que os jovens estão bebendo cada vez menos?\n",
      "Sintoma ignorado revela câncer terminal e faz mãe de 31 anos ficar longe dos filhos \n",
      "Por que casos de câncer em jovens adultos estão aumentando?\n",
      "no fundo do poço, Mavi rompe com Mércia e volta para Viola\n",
      "Veja o que vai acontecer nos capítulos de 3 a 8 de março\n",
      "Veja o que vai acontecer nos capítulos de 3 a 8 de março\n",
      "Elenco apresenta trama e personagens de 'Vale Tudo'\n",
      "Esses 8 truques imbatíveis vão fazer seu celular voar de tão rápido\n",
      "15 melhores jogos de Nintendo Switch da história, segundo o Metacritic\n",
      "Celular com 5G de 128 GB: 6 opções por um preço que você não pode perder\n",
      "Mini ar-condicionado portátil é bom? 4 motivos para comprar — e 5 para fugir\n",
      "Eleição na Alemanha: EUA e Rússia alinhados; escute o novo episódio de 'O Assunto'\n",
      "Isso é Fantástico explica o que é o PMMA e quais os riscos para a saúde \n",
      "Encontre os melhores podcasts da Globo em um só lugar; aperte o play e divirta-se\n"
     ]
    }
   ],
   "source": [
    "for i in range(len(noticias)):\n",
    "    print(noticias[i].text)"
   ]
  }
 ],
 "metadata": {
  "kernelspec": {
   "display_name": "myenvs",
   "language": "python",
   "name": "python3"
  },
  "language_info": {
   "codemirror_mode": {
    "name": "ipython",
    "version": 3
   },
   "file_extension": ".py",
   "mimetype": "text/x-python",
   "name": "python",
   "nbconvert_exporter": "python",
   "pygments_lexer": "ipython3",
   "version": "3.12.3"
  }
 },
 "nbformat": 4,
 "nbformat_minor": 2
}
